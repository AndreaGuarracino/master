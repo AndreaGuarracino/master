{
 "cells": [
  {
   "cell_type": "code",
   "execution_count": null,
   "metadata": {},
   "outputs": [],
   "source": [
    "import pandas as pd\n",
    "import numpy as np\n",
    "from collections import Counter\n",
    "\n",
    "#Importing gensim libraries for d2v embedding\n",
    "from gensim.models.doc2vec import Doc2Vec\n",
    "\n",
    "#for sklearn libraries for TSNE and PCA\n",
    "from sklearn.decomposition import PCA\n",
    "from sklearn.preprocessing import StandardScaler\n",
    "\n",
    "\n",
    "#for sklearn libraries for \n",
    "from sklearn.manifold import TSNE\n",
    "\n",
    "#Importing scipy libraries for hierarchical clustering\n",
    "from scipy.spatial.distance import pdist\n",
    "from scipy.cluster.hierarchy import linkage, dendrogram\n",
    "\n",
    "# Importing matplotlib and seaborn for graphics.\n",
    "import matplotlib.pyplot as plt\n",
    "import matplotlib.patheffects as PathEffects\n",
    "%matplotlib inline\n",
    "\n",
    "import seaborn as sns\n",
    "sns.set_style('darkgrid')\n",
    "sns.set_palette('muted')\n",
    "sns.set_context(\"notebook\", font_scale=1.5,\n",
    "                rc={\"lines.linewidth\": 2.5})"
   ]
  },
  {
   "cell_type": "code",
   "execution_count": null,
   "metadata": {},
   "outputs": [],
   "source": [
    "# functions to create scatter plots\n",
    "\n",
    "def PCA_scatter(x,y,tag,sp):\n",
    "    colors = pd.factorize(tag)[0]\n",
    "    c=Counter(tag)\n",
    "    sp_uniq=np.unique(sp)\n",
    "    tag_uniq=np.unique(tag)\n",
    "    palette_uniq= [plt.cm.hsv(i/float(len(tag_uniq)-1)) for i in range(len(tag_uniq))]\n",
    "    \n",
    "    f, ax = plt.subplots(1,figsize=(25, 25))\n",
    "    ax.set_xlabel('PC1 Explained variance: %.2f percent'% (pca.explained_variance_ratio_[0]*100), fontsize = 15)\n",
    "    ax.set_ylabel('PC2 Explained variance: %.2f percent'% (pca.explained_variance_ratio_[1]*100), fontsize = 15)\n",
    "\n",
    "    for i, v in enumerate(tag_uniq):\n",
    "        if c[v]>3:\n",
    "            xi=[x[j] for j in range(len(tag)) if tag[j]==v]\n",
    "            yi=[y[j] for j in range(len(tag)) if tag[j]==v]\n",
    "            plt.scatter(xi,yi, c=palette_uniq[i], label=v)\n",
    "            \n",
    "    #mark with an 'x' if the species is SARS-cov2\n",
    "    for i, v in enumerate(sp_uniq):\n",
    "        xi=[x[j] for j in range(len(sp)) if cov in sp[j]]\n",
    "        yi=[y[j] for j in range(len(sp)) if cov in sp[j]]\n",
    "        plt.scatter(xi,yi, marker='x', color='black', alpha=0.2)\n",
    "\n",
    "    plt.legend(loc='upper left', bbox_to_anchor=(1, 1))\n",
    "    plt.savefig('plots/cov2vec_pca_ep200_v300.png')\n",
    "\n",
    "    return f, ax\n",
    "\n",
    "def TSNE_scatter(x,y,tag,p, sp):\n",
    "    c=Counter(tag)\n",
    "    colors = pd.factorize(tag)[0]\n",
    "    sp_uniq=np.unique(sp)\n",
    "    tag_uniq=np.unique(tag)\n",
    "    palette_uniq= [plt.cm.hsv(i/float(len(tag_uniq)-1)) for i in range(len(tag_uniq))]\n",
    "    f, ax = plt.subplots(1,figsize=(35, 25))\n",
    "    \n",
    "    for i, v in enumerate(tag_uniq):\n",
    "        xi=[x[j] for j in range(len(tag)) if tag[j]==v]\n",
    "        yi=[y[j] for j in range(len(tag)) if tag[j]==v]\n",
    "        plt.scatter(xi,yi, c=palette_uniq[i], label=v)\n",
    "    \n",
    "    #mark with an 'x' if the species is SARS-cov2\n",
    "    for i, v in enumerate(sp_uniq):\n",
    "        xi=[x[j] for j in range(len(sp)) if cov in sp[j]]\n",
    "        yi=[y[j] for j in range(len(sp)) if cov in sp[j]]\n",
    "        plt.scatter(xi,yi, marker='x', color='black')\n",
    "        \n",
    "    plt.legend(loc='upper left', bbox_to_anchor=(1, 1))\n",
    "    plt.tight_layout()\n",
    "    plt.savefig(f'plots/cov2vec_tsne{p}.png')\n",
    "\n",
    "    return f, ax"
   ]
  },
  {
   "cell_type": "code",
   "execution_count": null,
   "metadata": {},
   "outputs": [],
   "source": [
    "dataset = pd.read_csv('data/orf1ab_df_seq_meta.csv')\n",
    "#Removing sequences that doesn't start with Methionine\n",
    "dataset=dataset[dataset['Sequence'].astype(str).str.startswith('M')]\n",
    "dataset"
   ]
  },
  {
   "cell_type": "code",
   "execution_count": null,
   "metadata": {},
   "outputs": [],
   "source": [
    "ids = dataset.iloc[:, 1].values\n",
    "seqs = dataset.iloc[:, 2].values\n",
    "host= dataset.iloc[:, 7].values\n",
    "hosts=[i for i in host]\n",
    "sp = dataset.iloc[:, 10].values\n",
    "gb_t2=[i.split(\"[\")[1][:-1] for i in sp]\n",
    "cov= \"Severe acute respiratory syndrome coronavirus 2\""
   ]
  },
  {
   "cell_type": "code",
   "execution_count": null,
   "metadata": {},
   "outputs": [],
   "source": [
    "model = Doc2Vec.load('models/orf2vec_overlap_v300_ep200_k4_w5.d2v')\n",
    "x= model.docvecs.vectors_docs"
   ]
  },
  {
   "cell_type": "markdown",
   "metadata": {},
   "source": [
    "## Principal component analysis (PCA)"
   ]
  },
  {
   "cell_type": "code",
   "execution_count": null,
   "metadata": {},
   "outputs": [],
   "source": [
    "x= model.docvecs.vectors_docs\n",
    "x = StandardScaler().fit_transform(x)\n",
    "pca = PCA(n_components=2)\n",
    "principalComponents = pca.fit_transform(x)"
   ]
  },
  {
   "cell_type": "code",
   "execution_count": null,
   "metadata": {},
   "outputs": [],
   "source": [
    "principalDf = pd.DataFrame(data = principalComponents\n",
    "             , columns = ['principal component 1', 'principal component 2'])"
   ]
  },
  {
   "cell_type": "code",
   "execution_count": null,
   "metadata": {},
   "outputs": [],
   "source": [
    "finalDf = pd.concat([principalDf, dataset[['Host']]], axis = 1)\n",
    "x=finalDf.iloc[:, 0].values\n",
    "y=finalDf.iloc[:, 1].values"
   ]
  },
  {
   "cell_type": "code",
   "execution_count": null,
   "metadata": {},
   "outputs": [],
   "source": [
    "PCA_scatter(x , y,gb_t2,sp)"
   ]
  },
  {
   "cell_type": "markdown",
   "metadata": {},
   "source": [
    "## Applying t-distributed stochastic neighbor embedding (t-SNE)"
   ]
  },
  {
   "cell_type": "code",
   "execution_count": null,
   "metadata": {},
   "outputs": [],
   "source": [
    "X= model.docvecs.vectors_docs\n",
    "perplexity=30\n",
    "tsne = TSNE(n_components=2, perplexity=p, random_state=0)\n",
    "X_tsne = tsne.fit_transform(X)\n",
    "df = pd.DataFrame(X_tsne, index=ids, columns=['x', 'y'])\n",
    "x=[i[0] for i in X_tsne]\n",
    "y=[i[1] for i in X_tsne]\n",
    "\n",
    "TSNE_scatter(x , y,gb_t2,p, sp)"
   ]
  },
  {
   "cell_type": "markdown",
   "metadata": {},
   "source": [
    "## Visualizing hierarchical clustering tree "
   ]
  },
  {
   "cell_type": "code",
   "execution_count": null,
   "metadata": {},
   "outputs": [],
   "source": [
    "X= model.docvecs.vectors_docs\n",
    "dm = pdist(X, 'cosine') \n",
    "method = 'ward'\n",
    "Z = linkage(dm, method=method, metric='cosine', optimal_ordering=False)\n",
    "\n",
    "\n",
    "plt.figure(figsize=(50, 50))\n",
    "dendrogram(Z,\n",
    "            orientation='top',\n",
    "            labels=hosts,\n",
    "            distance_sort='descending')\n",
    "plt.savefig('plots/dendro_ep200_v300.png')\n",
    "plt.show()"
   ]
  }
 ],
 "metadata": {
  "kernelspec": {
   "display_name": "Python 3.6 (tensorflow)",
   "language": "python",
   "name": "tensorflow"
  },
  "language_info": {
   "codemirror_mode": {
    "name": "ipython",
    "version": 3
   },
   "file_extension": ".py",
   "mimetype": "text/x-python",
   "name": "python",
   "nbconvert_exporter": "python",
   "pygments_lexer": "ipython3",
   "version": "3.6.8"
  }
 },
 "nbformat": 4,
 "nbformat_minor": 2
}
