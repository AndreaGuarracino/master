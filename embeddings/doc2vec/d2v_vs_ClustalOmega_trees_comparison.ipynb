{
 "cells": [
  {
   "cell_type": "code",
   "execution_count": null,
   "metadata": {},
   "outputs": [],
   "source": [
    "#Importing gensim libraries for d2v embedding\n",
    "from gensim.models.doc2vec import Doc2Vec\n",
    "\n",
    "from scipy.cluster import hierarchy\n",
    "from scipy.spatial.distance import pdist\n",
    "from scipy.cluster.hierarchy import linkage, dendrogram\n",
    "\n",
    "from ete3 import Tree"
   ]
  },
  {
   "cell_type": "code",
   "execution_count": null,
   "metadata": {},
   "outputs": [],
   "source": [
    "#Define a function to get Newick format from a Tree\n",
    "def getNewick(node, newick, parentdist, leaf_names):\n",
    "    if node.is_leaf():\n",
    "        return \"%s:%.2f%s\" % (leaf_names[node.id], parentdist - node.dist, newick)\n",
    "    else:\n",
    "        if len(newick) > 0:\n",
    "            newick = \"):%.2f%s\" % (parentdist - node.dist, newick)\n",
    "        else:\n",
    "            newick = \");\"\n",
    "        newick = getNewick(node.get_left(), newick, node.dist, leaf_names)\n",
    "        newick = getNewick(node.get_right(), \",%s\" % (newick), node.dist, leaf_names)\n",
    "        newick = \"(%s\" % (newick)\n",
    "        return newick"
   ]
  },
  {
   "cell_type": "code",
   "execution_count": null,
   "metadata": {},
   "outputs": [],
   "source": [
    "#Loading the dataset\n",
    "dataset = pd.read_csv('data/orf1ab_df_seq_meta.csv')\n",
    "#Removing sequences that doesn't start with Methionine\n",
    "dataset=dataset[dataset['Sequence'].astype(str).str.startswith('M')]\n",
    "Accession = dataset.iloc[:, 1].values"
   ]
  },
  {
   "cell_type": "code",
   "execution_count": null,
   "metadata": {},
   "outputs": [],
   "source": [
    "vector_sizes = [10,50,100,200,300]\n",
    "epochs = [5,10,20,50,100,200]\n",
    "df=pd.DataFrame(np.ones((len(vector_sizes), len(epochs))), index=vs, columns=ep)\n",
    "\n",
    "#loading the ClustalOmega tree\n",
    "t2 = Tree(\"data/tree.out\")\n",
    "\n",
    "for vector_size in vector_sizes:\n",
    "    for epoch in epochs:\n",
    "        #loading d2v model and getting vectors\n",
    "        model = Doc2Vec.load(f'models/orf2vec_overlap_v{vector_size}_ep{epoch}_k4_w5.d2v')\n",
    "        X= model.docvecs.vectors_docs\n",
    "        dm = pdist(X, 'cosine')\n",
    "        #Applying Hierarchical clusterig, generate the tree and \n",
    "        #get the Newick format\n",
    "        method = 'ward'\n",
    "        Z = linkage(dm, method=method, metric='cosine', optimal_ordering=False)\n",
    "        leaf_names=ids\n",
    "        tree = hierarchy.to_tree(Z,False)\n",
    "        t1 = Tree(getNewick(tree, \"\", tree.dist, leaf_names))\n",
    "        #Using Robinson foulds to confront the morphology of the two trees\n",
    "        rf= t2.robinson_foulds(t1)\n",
    "        ratio=\"{:.2f}\".format(rf[0]/rf[1])\n",
    "        df.loc[vs,ep]=ratio"
   ]
  },
  {
   "cell_type": "code",
   "execution_count": null,
   "metadata": {},
   "outputs": [],
   "source": [
    "df"
   ]
  },
  {
   "cell_type": "code",
   "execution_count": null,
   "metadata": {},
   "outputs": [],
   "source": [
    "df.to_csv('data/results_k4.csv')"
   ]
  }
 ],
 "metadata": {
  "kernelspec": {
   "display_name": "Python 3.6 (tensorflow)",
   "language": "python",
   "name": "tensorflow"
  },
  "language_info": {
   "codemirror_mode": {
    "name": "ipython",
    "version": 3
   },
   "file_extension": ".py",
   "mimetype": "text/x-python",
   "name": "python",
   "nbconvert_exporter": "python",
   "pygments_lexer": "ipython3",
   "version": "3.6.8"
  }
 },
 "nbformat": 4,
 "nbformat_minor": 2
}
