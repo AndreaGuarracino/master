{
 "cells": [
  {
   "cell_type": "markdown",
   "metadata": {},
   "source": [
    "# Import libraries"
   ]
  },
  {
   "cell_type": "code",
   "execution_count": 1,
   "metadata": {},
   "outputs": [
    {
     "name": "stderr",
     "output_type": "stream",
     "text": [
      "/home/didier/anaconda3/envs/c19biohack_ml/lib/python3.7/site-packages/sklearn/utils/deprecation.py:144: FutureWarning: The sklearn.metrics.scorer module is  deprecated in version 0.22 and will be removed in version 0.24. The corresponding classes / functions should instead be imported from sklearn.metrics. Anything that cannot be imported from sklearn.metrics is now part of the private API.\n",
      "  warnings.warn(message, FutureWarning)\n",
      "/home/didier/anaconda3/envs/c19biohack_ml/lib/python3.7/site-packages/sklearn/utils/deprecation.py:144: FutureWarning: The sklearn.feature_selection.base module is  deprecated in version 0.22 and will be removed in version 0.24. The corresponding classes / functions should instead be imported from sklearn.feature_selection. Anything that cannot be imported from sklearn.feature_selection is now part of the private API.\n",
      "  warnings.warn(message, FutureWarning)\n",
      "Using TensorFlow backend.\n",
      "/home/didier/anaconda3/envs/c19biohack_ml/lib/python3.7/site-packages/tensorflow/python/framework/dtypes.py:526: FutureWarning: Passing (type, 1) or '1type' as a synonym of type is deprecated; in a future version of numpy, it will be understood as (type, (1,)) / '(1,)type'.\n",
      "  _np_qint8 = np.dtype([(\"qint8\", np.int8, 1)])\n",
      "/home/didier/anaconda3/envs/c19biohack_ml/lib/python3.7/site-packages/tensorflow/python/framework/dtypes.py:527: FutureWarning: Passing (type, 1) or '1type' as a synonym of type is deprecated; in a future version of numpy, it will be understood as (type, (1,)) / '(1,)type'.\n",
      "  _np_quint8 = np.dtype([(\"quint8\", np.uint8, 1)])\n",
      "/home/didier/anaconda3/envs/c19biohack_ml/lib/python3.7/site-packages/tensorflow/python/framework/dtypes.py:528: FutureWarning: Passing (type, 1) or '1type' as a synonym of type is deprecated; in a future version of numpy, it will be understood as (type, (1,)) / '(1,)type'.\n",
      "  _np_qint16 = np.dtype([(\"qint16\", np.int16, 1)])\n",
      "/home/didier/anaconda3/envs/c19biohack_ml/lib/python3.7/site-packages/tensorflow/python/framework/dtypes.py:529: FutureWarning: Passing (type, 1) or '1type' as a synonym of type is deprecated; in a future version of numpy, it will be understood as (type, (1,)) / '(1,)type'.\n",
      "  _np_quint16 = np.dtype([(\"quint16\", np.uint16, 1)])\n",
      "/home/didier/anaconda3/envs/c19biohack_ml/lib/python3.7/site-packages/tensorflow/python/framework/dtypes.py:530: FutureWarning: Passing (type, 1) or '1type' as a synonym of type is deprecated; in a future version of numpy, it will be understood as (type, (1,)) / '(1,)type'.\n",
      "  _np_qint32 = np.dtype([(\"qint32\", np.int32, 1)])\n",
      "/home/didier/anaconda3/envs/c19biohack_ml/lib/python3.7/site-packages/tensorflow/python/framework/dtypes.py:535: FutureWarning: Passing (type, 1) or '1type' as a synonym of type is deprecated; in a future version of numpy, it will be understood as (type, (1,)) / '(1,)type'.\n",
      "  np_resource = np.dtype([(\"resource\", np.ubyte, 1)])\n"
     ]
    }
   ],
   "source": [
    "import sklearn\n",
    "import numpy as np\n",
    "from sklearn.feature_extraction.text import CountVectorizer\n",
    "from sklearn.cluster import MiniBatchKMeans\n",
    "import matplotlib.pyplot as plt\n",
    "from eli5 import show_weights, show_prediction\n",
    "import seaborn as sns\n",
    "from sklearn.manifold import TSNE\n",
    "from sklearn.linear_model import LogisticRegression\n",
    "\n",
    "\n",
    "#custom\n",
    "from helper import DataProcessing\n",
    "from ml_metrics import evaluate_model, multiclass_logloss\n",
    "from plotting import plot_tsne"
   ]
  },
  {
   "cell_type": "code",
   "execution_count": null,
   "metadata": {},
   "outputs": [],
   "source": []
  },
  {
   "cell_type": "code",
   "execution_count": 2,
   "metadata": {},
   "outputs": [],
   "source": [
    "# set K-mer length here\n",
    "kmer = 4\n"
   ]
  },
  {
   "cell_type": "code",
   "execution_count": 3,
   "metadata": {},
   "outputs": [],
   "source": [
    "orf1 = DataProcessing('coronavirus_orf1ab.fasta', 'coronavirus_orf1ab_meta.csv')"
   ]
  },
  {
   "cell_type": "code",
   "execution_count": 4,
   "metadata": {},
   "outputs": [
    {
     "name": "stdout",
     "output_type": "stream",
     "text": [
      "(3046, 13)\n",
      "(2384, 13)\n"
     ]
    },
    {
     "data": {
      "text/html": [
       "<div>\n",
       "<style scoped>\n",
       "    .dataframe tbody tr th:only-of-type {\n",
       "        vertical-align: middle;\n",
       "    }\n",
       "\n",
       "    .dataframe tbody tr th {\n",
       "        vertical-align: top;\n",
       "    }\n",
       "\n",
       "    .dataframe thead th {\n",
       "        text-align: right;\n",
       "    }\n",
       "</style>\n",
       "<table border=\"1\" class=\"dataframe\">\n",
       "  <thead>\n",
       "    <tr style=\"text-align: right;\">\n",
       "      <th></th>\n",
       "      <th>Accession</th>\n",
       "      <th>Release_Date</th>\n",
       "      <th>Species</th>\n",
       "      <th>Length</th>\n",
       "      <th>Geo_Location</th>\n",
       "      <th>Host</th>\n",
       "      <th>Isolation_Source</th>\n",
       "      <th>Collection_Date</th>\n",
       "      <th>GenBank_Title</th>\n",
       "      <th>seq_offset_0</th>\n",
       "      <th>seq_offset_1</th>\n",
       "      <th>seq_offset_2</th>\n",
       "      <th>seq_offset_3</th>\n",
       "    </tr>\n",
       "  </thead>\n",
       "  <tbody>\n",
       "    <tr>\n",
       "      <th>1</th>\n",
       "      <td>YP_009555238</td>\n",
       "      <td>2019-02-21T00:00:00Z</td>\n",
       "      <td>Betacoronavirus 1</td>\n",
       "      <td>7095</td>\n",
       "      <td>USA</td>\n",
       "      <td>NaN</td>\n",
       "      <td>NaN</td>\n",
       "      <td>NaN</td>\n",
       "      <td>Orf1ab [Human coronavirus OC43]</td>\n",
       "      <td>MSKINKYGLELHWAPEFPWMFEDAEEKLDNPSSSEVDMICSTTAQK...</td>\n",
       "      <td>SKINKYGLELHWAPEFPWMFEDAEEKLDNPSSSEVDMICSTTAQKL...</td>\n",
       "      <td>KINKYGLELHWAPEFPWMFEDAEEKLDNPSSSEVDMICSTTAQKLE...</td>\n",
       "      <td>INKYGLELHWAPEFPWMFEDAEEKLDNPSSSEVDMICSTTAQKLET...</td>\n",
       "    </tr>\n",
       "    <tr>\n",
       "      <th>2</th>\n",
       "      <td>YP_002308478</td>\n",
       "      <td>2018-08-24T00:00:00Z</td>\n",
       "      <td>Bulbul coronavirus HKU11</td>\n",
       "      <td>6264</td>\n",
       "      <td>Hong Kong</td>\n",
       "      <td>Pycnonotus jocosus</td>\n",
       "      <td>NaN</td>\n",
       "      <td>2007-01</td>\n",
       "      <td>orf1ab polyprotein [Bulbul coronavirus HKU11-934]</td>\n",
       "      <td>MVKNVSKRSPIVLPQIQPPPLQLFIAVAAAEEGHPKDLKYLGNYNL...</td>\n",
       "      <td>VKNVSKRSPIVLPQIQPPPLQLFIAVAAAEEGHPKDLKYLGNYNLV...</td>\n",
       "      <td>KNVSKRSPIVLPQIQPPPLQLFIAVAAAEEGHPKDLKYLGNYNLVT...</td>\n",
       "      <td>NVSKRSPIVLPQIQPPPLQLFIAVAAAEEGHPKDLKYLGNYNLVTS...</td>\n",
       "    </tr>\n",
       "    <tr>\n",
       "      <th>3</th>\n",
       "      <td>YP_009513008</td>\n",
       "      <td>2018-08-24T00:00:00Z</td>\n",
       "      <td>Hedgehog coronavirus 1</td>\n",
       "      <td>7150</td>\n",
       "      <td>Germany</td>\n",
       "      <td>Erinaceus europaeus</td>\n",
       "      <td>feces</td>\n",
       "      <td>2012</td>\n",
       "      <td>orf1ab [Betacoronavirus Erinaceus/VMC/DEU/2012]</td>\n",
       "      <td>MSSATGEGSQGARATYRAALNNEKRHDHVALTVPCCGTEAKVTALS...</td>\n",
       "      <td>SSATGEGSQGARATYRAALNNEKRHDHVALTVPCCGTEAKVTALSP...</td>\n",
       "      <td>SATGEGSQGARATYRAALNNEKRHDHVALTVPCCGTEAKVTALSPW...</td>\n",
       "      <td>ATGEGSQGARATYRAALNNEKRHDHVALTVPCCGTEAKVTALSPWF...</td>\n",
       "    </tr>\n",
       "    <tr>\n",
       "      <th>4</th>\n",
       "      <td>YP_009513020</td>\n",
       "      <td>2018-08-24T00:00:00Z</td>\n",
       "      <td>Coronavirus HKU15</td>\n",
       "      <td>6267</td>\n",
       "      <td>China: Hong Kong</td>\n",
       "      <td>Sus scrofa</td>\n",
       "      <td>NaN</td>\n",
       "      <td>2010</td>\n",
       "      <td>replicase polyprotein [Porcine coronavirus HKU15]</td>\n",
       "      <td>MAKNKSKRDAIALPENVPPPLQLFIHVAAAEEGHPKVTTYLGNYNL...</td>\n",
       "      <td>AKNKSKRDAIALPENVPPPLQLFIHVAAAEEGHPKVTTYLGNYNLY...</td>\n",
       "      <td>KNKSKRDAIALPENVPPPLQLFIHVAAAEEGHPKVTTYLGNYNLYA...</td>\n",
       "      <td>NKSKRDAIALPENVPPPLQLFIHVAAAEEGHPKVTTYLGNYNLYAT...</td>\n",
       "    </tr>\n",
       "    <tr>\n",
       "      <th>5</th>\n",
       "      <td>YP_009389424</td>\n",
       "      <td>2017-07-14T00:00:00Z</td>\n",
       "      <td>Wencheng Sm shrew coronavirus</td>\n",
       "      <td>6324</td>\n",
       "      <td>China</td>\n",
       "      <td>Suncus murinus</td>\n",
       "      <td>NaN</td>\n",
       "      <td>2015</td>\n",
       "      <td>ORF1ab polyprotein [Wencheng Sm shrew coronavi...</td>\n",
       "      <td>MSVSKVELFVPISDEVDATHFGTFGDAVEAYASAAPSFEGVYFVAY...</td>\n",
       "      <td>SVSKVELFVPISDEVDATHFGTFGDAVEAYASAAPSFEGVYFVAYG...</td>\n",
       "      <td>VSKVELFVPISDEVDATHFGTFGDAVEAYASAAPSFEGVYFVAYGL...</td>\n",
       "      <td>SKVELFVPISDEVDATHFGTFGDAVEAYASAAPSFEGVYFVAYGLQ...</td>\n",
       "    </tr>\n",
       "  </tbody>\n",
       "</table>\n",
       "</div>"
      ],
      "text/plain": [
       "      Accession          Release_Date                        Species  Length  \\\n",
       "1  YP_009555238  2019-02-21T00:00:00Z              Betacoronavirus 1    7095   \n",
       "2  YP_002308478  2018-08-24T00:00:00Z       Bulbul coronavirus HKU11    6264   \n",
       "3  YP_009513008  2018-08-24T00:00:00Z         Hedgehog coronavirus 1    7150   \n",
       "4  YP_009513020  2018-08-24T00:00:00Z              Coronavirus HKU15    6267   \n",
       "5  YP_009389424  2017-07-14T00:00:00Z  Wencheng Sm shrew coronavirus    6324   \n",
       "\n",
       "       Geo_Location                 Host Isolation_Source Collection_Date  \\\n",
       "1               USA                  NaN              NaN             NaN   \n",
       "2         Hong Kong   Pycnonotus jocosus              NaN         2007-01   \n",
       "3           Germany  Erinaceus europaeus            feces            2012   \n",
       "4  China: Hong Kong           Sus scrofa              NaN            2010   \n",
       "5             China       Suncus murinus              NaN            2015   \n",
       "\n",
       "                                       GenBank_Title  \\\n",
       "1                    Orf1ab [Human coronavirus OC43]   \n",
       "2  orf1ab polyprotein [Bulbul coronavirus HKU11-934]   \n",
       "3    orf1ab [Betacoronavirus Erinaceus/VMC/DEU/2012]   \n",
       "4  replicase polyprotein [Porcine coronavirus HKU15]   \n",
       "5  ORF1ab polyprotein [Wencheng Sm shrew coronavi...   \n",
       "\n",
       "                                        seq_offset_0  \\\n",
       "1  MSKINKYGLELHWAPEFPWMFEDAEEKLDNPSSSEVDMICSTTAQK...   \n",
       "2  MVKNVSKRSPIVLPQIQPPPLQLFIAVAAAEEGHPKDLKYLGNYNL...   \n",
       "3  MSSATGEGSQGARATYRAALNNEKRHDHVALTVPCCGTEAKVTALS...   \n",
       "4  MAKNKSKRDAIALPENVPPPLQLFIHVAAAEEGHPKVTTYLGNYNL...   \n",
       "5  MSVSKVELFVPISDEVDATHFGTFGDAVEAYASAAPSFEGVYFVAY...   \n",
       "\n",
       "                                        seq_offset_1  \\\n",
       "1  SKINKYGLELHWAPEFPWMFEDAEEKLDNPSSSEVDMICSTTAQKL...   \n",
       "2  VKNVSKRSPIVLPQIQPPPLQLFIAVAAAEEGHPKDLKYLGNYNLV...   \n",
       "3  SSATGEGSQGARATYRAALNNEKRHDHVALTVPCCGTEAKVTALSP...   \n",
       "4  AKNKSKRDAIALPENVPPPLQLFIHVAAAEEGHPKVTTYLGNYNLY...   \n",
       "5  SVSKVELFVPISDEVDATHFGTFGDAVEAYASAAPSFEGVYFVAYG...   \n",
       "\n",
       "                                        seq_offset_2  \\\n",
       "1  KINKYGLELHWAPEFPWMFEDAEEKLDNPSSSEVDMICSTTAQKLE...   \n",
       "2  KNVSKRSPIVLPQIQPPPLQLFIAVAAAEEGHPKDLKYLGNYNLVT...   \n",
       "3  SATGEGSQGARATYRAALNNEKRHDHVALTVPCCGTEAKVTALSPW...   \n",
       "4  KNKSKRDAIALPENVPPPLQLFIHVAAAEEGHPKVTTYLGNYNLYA...   \n",
       "5  VSKVELFVPISDEVDATHFGTFGDAVEAYASAAPSFEGVYFVAYGL...   \n",
       "\n",
       "                                        seq_offset_3  \n",
       "1  INKYGLELHWAPEFPWMFEDAEEKLDNPSSSEVDMICSTTAQKLET...  \n",
       "2  NVSKRSPIVLPQIQPPPLQLFIAVAAAEEGHPKDLKYLGNYNLVTS...  \n",
       "3  ATGEGSQGARATYRAALNNEKRHDHVALTVPCCGTEAKVTALSPWF...  \n",
       "4  NKSKRDAIALPENVPPPLQLFIHVAAAEEGHPKVTTYLGNYNLYAT...  \n",
       "5  SKVELFVPISDEVDATHFGTFGDAVEAYASAAPSFEGVYFVAYGLQ...  "
      ]
     },
     "execution_count": 4,
     "metadata": {},
     "output_type": "execute_result"
    }
   ],
   "source": [
    "#this will take a while\n",
    "# kmers = orf1.get_amino_kmer_df(4)\n",
    "amino_df = orf1.get_amino_df(kmer)\n",
    "print(amino_df.shape)\n",
    "\n",
    "# get rid of duplicates\n",
    "amino_df.drop_duplicates(subset='Accession', keep=False, inplace=True)\n",
    "print(amino_df.shape)\n",
    "amino_df.head()"
   ]
  },
  {
   "cell_type": "markdown",
   "metadata": {},
   "source": [
    "# Split the dataframe"
   ]
  },
  {
   "cell_type": "code",
   "execution_count": 5,
   "metadata": {},
   "outputs": [
    {
     "name": "stdout",
     "output_type": "stream",
     "text": [
      "Size of the test df: 496. Size of the tain df: 1888.\n"
     ]
    }
   ],
   "source": [
    "#split dataframe\n",
    "mask = np.random.rand(len(amino_df)) < 0.8\n",
    "train_df = amino_df[mask]\n",
    "test_df = amino_df[~mask]\n",
    "print(f'Size of the test df: {len(test_df)}. Size of the train df: {len(train_df)}.')"
   ]
  },
  {
   "cell_type": "code",
   "execution_count": 6,
   "metadata": {},
   "outputs": [],
   "source": [
    "#split\n",
    "xtrain = train_df['seq_offset_0'].values\n",
    "xtest = test_df['seq_offset_0'].values"
   ]
  },
  {
   "cell_type": "markdown",
   "metadata": {},
   "source": [
    "# Vectorize the sequence"
   ]
  },
  {
   "cell_type": "code",
   "execution_count": 7,
   "metadata": {},
   "outputs": [],
   "source": [
    "#vectorize\n",
    "ctv = CountVectorizer(analyzer='char', ngram_range=(kmer, kmer), lowercase=False) # kmer: k-mer length\n",
    "\n",
    "ctv.fit(list(xtrain)+list(xtest))\n",
    "xtrain_ctv = ctv.transform(xtrain)\n",
    "xtest_ctv = ctv.transform(xtest)"
   ]
  },
  {
   "cell_type": "code",
   "execution_count": 8,
   "metadata": {},
   "outputs": [],
   "source": [
    "#K-means clustering\n",
    "def run_kmeans(k):\n",
    "    class_dict = dict(zip(range(k), [f'cluster_{i}' for i in range(k)]))\n",
    "    kmeans = MiniBatchKMeans(n_clusters=k,verbose=0, batch_size=100,random_state=101)\n",
    "    ytrain = kmeans.fit_predict(xtrain_ctv)\n",
    "    ytest = kmeans.fit_predict(xtest_ctv)\n",
    "    return ytrain, ytest, class_dict"
   ]
  },
  {
   "cell_type": "code",
   "execution_count": 9,
   "metadata": {},
   "outputs": [
    {
     "name": "stdout",
     "output_type": "stream",
     "text": [
      "2 3 4 5 6 7 8 9 10 11 12 13 14 15 16 17 18 19 CPU times: user 54min 27s, sys: 14.9 s, total: 54min 42s\n",
      "Wall time: 1h 10min 18s\n"
     ]
    }
   ],
   "source": [
    "%%time\n",
    "error_rate = []\n",
    "\n",
    "# Will take some time\n",
    "for i in range(2,20):\n",
    "    print (i, end=\" \")\n",
    "    ytrain, ytest, class_dict = run_kmeans(i)\n",
    "    #fit logistic regression on CountVectorizer\n",
    "    \n",
    "    clf = LogisticRegression(C=1.0, max_iter=4000,n_jobs=-1,random_state=101)\n",
    "    clf.fit(xtrain_ctv, ytrain)\n",
    "    predictions = clf.predict(xtest_ctv)\n",
    "    error_rate.append(np.mean(predictions != ytest))\n"
   ]
  },
  {
   "cell_type": "code",
   "execution_count": null,
   "metadata": {},
   "outputs": [],
   "source": []
  },
  {
   "cell_type": "code",
   "execution_count": 11,
   "metadata": {},
   "outputs": [
    {
     "data": {
      "text/plain": [
       "Text(0, 0.5, 'Error Rate')"
      ]
     },
     "execution_count": 11,
     "metadata": {},
     "output_type": "execute_result"
    },
    {
     "data": {
      "image/png": "[encoded data removed]",
      "text/plain": [
       "<Figure size 1440x648 with 1 Axes>"
      ]
     },
     "metadata": {
      "needs_background": "light"
     },
     "output_type": "display_data"
    }
   ],
   "source": [
    "plt.figure(figsize=(20,9))\n",
    "plt.plot(range(2,20),error_rate,color='blue', linestyle='dashed', marker='o',\n",
    "         markerfacecolor='red', markersize=10)\n",
    "plt.title('Error Rate vs. K Value')\n",
    "plt.xlabel('K')\n",
    "plt.ylabel('Error Rate')\n"
   ]
  },
  {
   "cell_type": "code",
   "execution_count": null,
   "metadata": {},
   "outputs": [],
   "source": []
  },
  {
   "cell_type": "code",
   "execution_count": null,
   "metadata": {},
   "outputs": [],
   "source": []
  },
  {
   "cell_type": "code",
   "execution_count": null,
   "metadata": {},
   "outputs": [],
   "source": []
  }
 ],
 "metadata": {
  "kernelspec": {
   "display_name": "Python 3",
   "language": "python",
   "name": "python3"
  },
  "language_info": {
   "codemirror_mode": {
    "name": "ipython",
    "version": 3
   },
   "file_extension": ".py",
   "mimetype": "text/x-python",
   "name": "python",
   "nbconvert_exporter": "python",
   "pygments_lexer": "ipython3",
   "version": "3.7.7"
  }
 },
 "nbformat": 4,
 "nbformat_minor": 4
}
