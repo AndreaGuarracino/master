{
 "cells": [
  {
   "cell_type": "code",
   "execution_count": null,
   "metadata": {},
   "outputs": [],
   "source": [
    "import glob\n",
    "import pandas as pd\n",
    "import epitopepredict as ep\n",
    "from epitopepredict import base, sequtils\n",
    "from os import cpu_count"
   ]
  },
  {
   "cell_type": "code",
   "execution_count": null,
   "metadata": {},
   "outputs": [],
   "source": [
    "inpath = \"../data/epitope_data/common_coronaviruses_and_sars2_M_E_N_Spike.fasta\"\n",
    "outpath = \"../data/epitope-predictions/\"\n",
    "df = sequtils.fasta_to_dataframe(inpath)\n",
    "\n",
    "display(df)"
   ]
  },
  {
   "cell_type": "code",
   "execution_count": null,
   "metadata": {},
   "outputs": [],
   "source": [
    "cpus = cpu_count()/2\n",
    "cpus"
   ]
  },
  {
   "cell_type": "code",
   "execution_count": null,
   "metadata": {},
   "outputs": [],
   "source": [
    "# Make a choice about which alleles to include\n",
    "alleles = base.get_preset_alleles('broad_coverage_mhc1') + base.get_preset_alleles('human_common_mhc2')\n",
    "#alleles = ['HLA-A01:01']\n",
    "\n",
    "# Make a choice of which predictors to use\n",
    "#models = ['mhcnuggets', 'mhcflurry', 'netmhcpan']\n",
    "models = ['mhcnuggets']\n",
    "\n",
    "outputs = {}\n",
    "\n",
    "for model in models:\n",
    "    predictor = base.get_predictor(model)\n",
    "    outputs[model] = predictor.predict_sequences(df, alleles=alleles, save=True, path=str(outpath+\"temp/\"), cpus=cpus)"
   ]
  },
  {
   "cell_type": "code",
   "execution_count": null,
   "metadata": {},
   "outputs": [],
   "source": []
  }
 ],
 "metadata": {
  "kernelspec": {
   "display_name": "Python 3",
   "language": "python",
   "name": "python3"
  },
  "language_info": {
   "codemirror_mode": {
    "name": "ipython",
    "version": 3
   },
   "file_extension": ".py",
   "mimetype": "text/x-python",
   "name": "python",
   "nbconvert_exporter": "python",
   "pygments_lexer": "ipython3",
   "version": "3.7.6"
  }
 },
 "nbformat": 4,
 "nbformat_minor": 4
}
